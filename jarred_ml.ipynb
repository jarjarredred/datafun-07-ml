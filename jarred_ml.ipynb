{
 "cells": [
  {
   "cell_type": "markdown",
   "id": "cae6499f",
   "metadata": {},
   "source": [
    "# Module 7 Machine Learning\n",
    "## by Jarred Gastreich\n",
    "## GitHub Link: https://github.com/jarjarredred/datafun-07-ml\n",
    "\n",
    "## Imports: "
   ]
  },
  {
   "cell_type": "code",
   "execution_count": null,
   "id": "5b93aa4b",
   "metadata": {},
   "outputs": [],
   "source": [
    "# Import List\n",
    "import jupyterlab\n",
    "import numpy\n",
    "import pandas\n",
    "import pyarrow\n",
    "import matplotlib\n",
    "import seaborn\n",
    "import scipy\n",
    "import pymongo\n",
    "import pyspark\n",
    "import tensorflow\n",
    "import wordcloud\n",
    "import numpy\n",
    "import scipy\n",
    "import scikit-learn"
   ]
  }
 ],
 "metadata": {
  "kernelspec": {
   "display_name": "Python 3",
   "language": "python",
   "name": "python3"
  },
  "language_info": {
   "name": "python",
   "version": "3.13.3"
  }
 },
 "nbformat": 4,
 "nbformat_minor": 5
}
