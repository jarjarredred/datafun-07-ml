{
 "cells": [
  {
   "cell_type": "markdown",
   "id": "cae6499f",
   "metadata": {},
   "source": [
    "# Module 7 Machine Learning\n",
    "## by Jarred Gastreich\n",
    "## GitHub Link: https://github.com/jarjarredred/datafun-07-ml\n",
    "\n",
    "## Imports: "
   ]
  },
  {
   "cell_type": "code",
   "execution_count": 6,
   "id": "5b93aa4b",
   "metadata": {},
   "outputs": [
    {
     "ename": "ModuleNotFoundError",
     "evalue": "No module named 'tensorflow'",
     "output_type": "error",
     "traceback": [
      "\u001b[31m---------------------------------------------------------------------------\u001b[39m",
      "\u001b[31mModuleNotFoundError\u001b[39m                       Traceback (most recent call last)",
      "\u001b[36mCell\u001b[39m\u001b[36m \u001b[39m\u001b[32mIn[6]\u001b[39m\u001b[32m, line 10\u001b[39m\n\u001b[32m      6\u001b[39m \u001b[38;5;28;01mimport\u001b[39;00m\u001b[38;5;250m \u001b[39m\u001b[34;01mseaborn\u001b[39;00m\n\u001b[32m      7\u001b[39m \u001b[38;5;66;03m# import scipy\u001b[39;00m\n\u001b[32m      8\u001b[39m \u001b[38;5;66;03m# import pymongo\u001b[39;00m\n\u001b[32m      9\u001b[39m \u001b[38;5;66;03m# import pyspark\u001b[39;00m\n\u001b[32m---> \u001b[39m\u001b[32m10\u001b[39m \u001b[38;5;28;01mimport\u001b[39;00m\u001b[38;5;250m \u001b[39m\u001b[34;01mtensorflow\u001b[39;00m\n\u001b[32m     11\u001b[39m \u001b[38;5;28;01mimport\u001b[39;00m\u001b[38;5;250m \u001b[39m\u001b[34;01mwordcloud\u001b[39;00m\n\u001b[32m     12\u001b[39m \u001b[38;5;28;01mimport\u001b[39;00m\u001b[38;5;250m \u001b[39m\u001b[34;01mnumpy\u001b[39;00m\n",
      "\u001b[31mModuleNotFoundError\u001b[39m: No module named 'tensorflow'"
     ]
    }
   ],
   "source": [
    "# Import List\n",
    "import jupyterlab\n",
    "import numpy\n",
    "import pandas as pd\n",
    "import matplotlib as plt\n",
    "import seaborn\n",
    "# import scipy\n",
    "# import pymongo\n",
    "# import pyspark\n",
    "import tensorflow\n",
    "import wordcloud\n",
    "import numpy\n",
    "import scipy\n",
    "scikit-learn\n",
    "ipython --matplotlib\n"
   ]
  },
  {
   "cell_type": "markdown",
   "id": "01e0a873",
   "metadata": {},
   "source": [
    "## Part 1 - Chart a Straight Line"
   ]
  },
  {
   "cell_type": "code",
   "execution_count": null,
   "id": "71e9db66",
   "metadata": {},
   "outputs": [],
   "source": [
    "c = lambda f: 5 / 9 * (f - 32)\n",
    "\n",
    "temps = [(f, c(f)) for f in range(0, 101, 10)]"
   ]
  },
  {
   "cell_type": "code",
   "execution_count": null,
   "id": "10e5a278",
   "metadata": {},
   "outputs": [],
   "source": [
    "temps_df = pd.DataFrame(temps, columns=['Fahrenheit', 'Celsius'])\n",
    "\n",
    "axes = temps_df.plot(x='Fahrenheit', y='Celsius', style='.-') \n",
    "\n",
    "y_label = axes.set_ylabel('Celsius')\n"
   ]
  }
 ],
 "metadata": {
  "kernelspec": {
   "display_name": "Python 3",
   "language": "python",
   "name": "python3"
  },
  "language_info": {
   "codemirror_mode": {
    "name": "ipython",
    "version": 3
   },
   "file_extension": ".py",
   "mimetype": "text/x-python",
   "name": "python",
   "nbconvert_exporter": "python",
   "pygments_lexer": "ipython3",
   "version": "3.13.3"
  }
 },
 "nbformat": 4,
 "nbformat_minor": 5
}
