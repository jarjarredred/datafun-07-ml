{
 "cells": [
  {
   "cell_type": "markdown",
   "id": "cae6499f",
   "metadata": {},
   "source": [
    "# Module 7 Machine Learning\n",
    "## by Jarred Gastreich\n",
    "## GitHub Link: https://github.com/jarjarredred/datafun-07-ml\n",
    "\n",
    "## Imports: "
   ]
  },
  {
   "cell_type": "code",
   "execution_count": 3,
   "id": "ab6e31b5",
   "metadata": {},
   "outputs": [
    {
     "name": "stdout",
     "output_type": "stream",
     "text": [
      "c:\\Users\\jarre\\AppData\\Local\\Programs\\Python\\Python313\\python.exe\n"
     ]
    }
   ],
   "source": [
    "import sys\n",
    "print(sys.executable)"
   ]
  },
  {
   "cell_type": "code",
   "execution_count": 4,
   "id": "5b93aa4b",
   "metadata": {},
   "outputs": [
    {
     "ename": "ModuleNotFoundError",
     "evalue": "No module named 'scipy'",
     "output_type": "error",
     "traceback": [
      "\u001b[31m---------------------------------------------------------------------------\u001b[39m",
      "\u001b[31mModuleNotFoundError\u001b[39m                       Traceback (most recent call last)",
      "\u001b[36mCell\u001b[39m\u001b[36m \u001b[39m\u001b[32mIn[4]\u001b[39m\u001b[32m, line 7\u001b[39m\n\u001b[32m      5\u001b[39m \u001b[38;5;28;01mimport\u001b[39;00m\u001b[38;5;250m \u001b[39m\u001b[34;01mmatplotlib\u001b[39;00m\n\u001b[32m      6\u001b[39m \u001b[38;5;28;01mimport\u001b[39;00m\u001b[38;5;250m \u001b[39m\u001b[34;01mmatplotlib\u001b[39;00m\u001b[34;01m.\u001b[39;00m\u001b[34;01mpyplot\u001b[39;00m\u001b[38;5;250m \u001b[39m\u001b[38;5;28;01mas\u001b[39;00m\u001b[38;5;250m \u001b[39m\u001b[34;01mplt\u001b[39;00m\n\u001b[32m----> \u001b[39m\u001b[32m7\u001b[39m \u001b[38;5;28;01mfrom\u001b[39;00m\u001b[38;5;250m \u001b[39m\u001b[34;01mscipy\u001b[39;00m\u001b[38;5;250m \u001b[39m\u001b[38;5;28;01mimport\u001b[39;00m stats\n\u001b[32m      8\u001b[39m \u001b[38;5;28;01mimport\u001b[39;00m\u001b[38;5;250m \u001b[39m\u001b[34;01mseaborn\u001b[39;00m\n\u001b[32m      9\u001b[39m \u001b[38;5;66;03m# import scipy\u001b[39;00m\n\u001b[32m     10\u001b[39m \u001b[38;5;66;03m# import pymongo\u001b[39;00m\n\u001b[32m     11\u001b[39m \u001b[38;5;66;03m# import pyspark\u001b[39;00m\n\u001b[32m   (...)\u001b[39m\u001b[32m     16\u001b[39m \u001b[38;5;66;03m# scikit-learn\u001b[39;00m\n\u001b[32m     17\u001b[39m \u001b[38;5;66;03m# ipython --matplotlib\u001b[39;00m\n",
      "\u001b[31mModuleNotFoundError\u001b[39m: No module named 'scipy'"
     ]
    }
   ],
   "source": [
    "# Import List\n",
    "import jupyterlab\n",
    "import numpy as np\n",
    "import pandas as pd\n",
    "import matplotlib\n",
    "import matplotlib.pyplot as plt\n",
    "from scipy import stats\n",
    "import seaborn\n",
    "# import scipy\n",
    "# import pymongo\n",
    "# import pyspark\n",
    "# import tensorflow\n",
    "# import wordcloud\n",
    "# import numpy\n",
    "# import scipy\n",
    "# scikit-learn\n",
    "# ipython --matplotlib\n"
   ]
  },
  {
   "cell_type": "markdown",
   "id": "01e0a873",
   "metadata": {},
   "source": [
    "## Part 1 - Chart a Straight Line"
   ]
  },
  {
   "cell_type": "code",
   "execution_count": null,
   "id": "71e9db66",
   "metadata": {},
   "outputs": [],
   "source": [
    "c = lambda f: 5 / 9 * (f - 32)\n",
    "\n",
    "temps = [(f, c(f)) for f in range(0, 101, 10)]"
   ]
  },
  {
   "cell_type": "code",
   "execution_count": null,
   "id": "10e5a278",
   "metadata": {},
   "outputs": [],
   "source": [
    "temps_df = pd.DataFrame(temps, columns=['Fahrenheit', 'Celsius'])\n",
    "\n",
    "axes = temps_df.plot(x='Fahrenheit', y='Celsius', style='.-') \n",
    "\n",
    "y_label = axes.set_ylabel('Celsius')\n"
   ]
  },
  {
   "cell_type": "markdown",
   "id": "64f5cc17",
   "metadata": {},
   "source": [
    "Load Data show head and tail"
   ]
  },
  {
   "cell_type": "code",
   "execution_count": null,
   "id": "620564f3",
   "metadata": {},
   "outputs": [],
   "source": [
    "nyc = pd.read_csv('ave_hi_nyc_jan_1895-2018.csv')\n",
    "\n",
    "nyc.head()\n"
   ]
  },
  {
   "cell_type": "code",
   "execution_count": null,
   "id": "6157994a",
   "metadata": {},
   "outputs": [],
   "source": [
    "nyc.tail()"
   ]
  },
  {
   "cell_type": "markdown",
   "id": "905e1894",
   "metadata": {},
   "source": [
    "Transform Data"
   ]
  },
  {
   "cell_type": "code",
   "execution_count": null,
   "id": "6e721acc",
   "metadata": {},
   "outputs": [],
   "source": [
    "nyc.columns = ['Date', 'Temperature',\n",
    "'Anomaly']\n",
    "\n",
    "nyc.head(3)\n",
    "\n",
    "nyc.Date = nyc.Date.floordiv(100)"
   ]
  },
  {
   "cell_type": "code",
   "execution_count": null,
   "id": "f58f0b45",
   "metadata": {},
   "outputs": [],
   "source": [
    "# pd.set_option('precision', 2)"
   ]
  },
  {
   "cell_type": "code",
   "execution_count": null,
   "id": "f48ea8c6",
   "metadata": {},
   "outputs": [],
   "source": [
    "from scipy import stats\n",
    "linear_regression = stats.linregress(x=nyc.Date,\n",
    "                  \n",
    "y=nyc.Temperature)"
   ]
  }
 ],
 "metadata": {
  "kernelspec": {
   "display_name": "Python 3",
   "language": "python",
   "name": "python3"
  },
  "language_info": {
   "codemirror_mode": {
    "name": "ipython",
    "version": 3
   },
   "file_extension": ".py",
   "mimetype": "text/x-python",
   "name": "python",
   "nbconvert_exporter": "python",
   "pygments_lexer": "ipython3",
   "version": "3.13.3"
  }
 },
 "nbformat": 4,
 "nbformat_minor": 5
}
